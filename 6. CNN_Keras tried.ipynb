{
  "nbformat": 4,
  "nbformat_minor": 0,
  "metadata": {
    "colab": {
      "provenance": [],
      "include_colab_link": true
    },
    "kernelspec": {
      "name": "python3",
      "display_name": "Python 3"
    },
    "language_info": {
      "name": "python"
    }
  },
  "cells": [
    {
      "cell_type": "markdown",
      "metadata": {
        "id": "view-in-github",
        "colab_type": "text"
      },
      "source": [
        "<a href=\"https://colab.research.google.com/github/kingsleygreglo/Gittyup/blob/master/6.%20CNN_Keras%20tried.ipynb\" target=\"_parent\"><img src=\"https://colab.research.google.com/assets/colab-badge.svg\" alt=\"Open In Colab\"/></a>"
      ]
    },
    {
      "cell_type": "code",
      "execution_count": 1,
      "metadata": {
        "id": "x4D9Uyi-BjH5"
      },
      "outputs": [],
      "source": [
        "# create a simple convolutional neural network using tensorflow and keras\n",
        "# import the necessary packages\n",
        "\n",
        "import tensorflow as tf\n",
        "from tensorflow import keras\n",
        "from tensorflow.keras import layers\n",
        "from tensorflow.keras.datasets import mnist\n",
        "from tensorflow.keras.models import Sequential\n",
        "from tensorflow.keras.layers import Dense, Dropout, Flatten\n",
        "from tensorflow.keras.layers import Conv2D, MaxPooling2D\n",
        "from tensorflow.keras import backend as K\n",
        "\n",
        "# create a python function to get the mnist dataset\n",
        "def get_mnist_dataset():\n",
        "  # get the mnist dataset\n",
        "  (x_train, y_train), (x_test, y_test) = mnist.load_data()\n",
        "  # reshape the dataset\n",
        "  x_train = x_train.reshape(x_train.shape[0], 28, 28, 1)\n",
        "  x_test = x_test.reshape(x_test.shape[0], 28, 28, 1)\n",
        "  # convert the dataset to float32\n",
        "  x_train = x_train.astype('float32')\n",
        "  x_test = x_test.astype('float32')\n",
        "  # normalize the dataset\n",
        "  x_train /= 255\n",
        "  x_test /= 255\n",
        "  # return the dataset\n",
        "  return x_train, y_train, x_test, y_test\n",
        "\n",
        "# create a python function to get the model\n",
        "def get_model():\n",
        "  # create a sequential model\n",
        "  model = Sequential()\n",
        "  # add a convolutional layer\n",
        "  model.add(Conv2D(32, kernel_size=(3, 3), activation='relu', input_shape=(28, 28, 1)))\n",
        "  # add a max pooling layer\n",
        "  model.add(MaxPooling2D(pool_size=(2, 2)))\n",
        "  # add a dropout layer\n",
        "  model.add(Dropout(0.25))\n",
        "  # add a flatten layer\n",
        "  model.add(Conv2D(32, kernel_size=(3, 3), activation='relu', input_shape=(28, 28, 1)))\n",
        "  # add a max pooling layer\n",
        "  model.add(MaxPooling2D(pool_size=(2, 2)))\n",
        "  # add a dropout layer\n",
        "  model.add(Dropout(0.25))\n",
        "  model.add(Flatten())\n",
        "  # add a dense layer\n",
        "\n",
        "  # add extra layers here\n",
        "  model.add(Dense(128, activation='relu'))\n",
        "  # add a dropout layer\n",
        "  model.add(Dropout(0.5))\n",
        "  # add a dense layer\n",
        "  model.add(Dense(10, activation='softmax'))\n",
        "  # return the model\n",
        "  return model\n",
        "\n",
        "# create a python function to compile the model\n",
        "def compile_model(model):\n",
        "  # compile the model\n",
        "  model.compile(loss=keras.losses.categorical_crossentropy, optimizer=keras.optimizers.Adadelta(), metrics=['accuracy'])\n",
        "  # return the model\n",
        "  return model\n",
        "\n",
        "# create a python function to train the model\n",
        "def train_model(model, x_train, y_train, batch_size, epochs):\n",
        "  # train the model\n",
        "  model.fit(x_train, y_train, batch_size=batch_size, epochs=epochs, verbose=1)\n",
        "  # return the model\n",
        "  return model\n",
        "\n",
        "# create a python function to evaluate the model\n",
        "def evaluate_model(model, x_test, y_test):\n",
        "  # evaluate the model\n",
        "  score = model.evaluate(x_test, y_test, verbose=0)\n",
        "  # print the score\n",
        "  print('Test loss:', score[0])\n",
        "  print('Test accuracy:', score[1])\n",
        "\n",
        "\n",
        "# create a python function to feedforward the model on new data\n",
        "def feedforward_model(model, x_test):\n",
        "  # feedforward the model on new data\n",
        "  predictions = model.predict(x_test)\n",
        "  # return the predictions\n",
        "  return predictions"
      ]
    },
    {
      "cell_type": "code",
      "source": [
        "# get the mnist dataset\n",
        "x_train, y_train, x_test, y_test = get_mnist_dataset()\n",
        "# convert y_train and y_test to categorical one-hot encoding\n",
        "y_train = keras.utils.to_categorical(y_train, 10)\n",
        "y_test = keras.utils.to_categorical(y_test, 10)\n",
        "# get the model\n",
        "model = get_model()\n",
        "# compile the model\n",
        "model = compile_model(model)"
      ],
      "metadata": {
        "id": "18rGCPJ2By0G",
        "outputId": "9b720eba-36cf-4964-cf42-ba34ad1053f3",
        "colab": {
          "base_uri": "https://localhost:8080/"
        }
      },
      "execution_count": 2,
      "outputs": [
        {
          "output_type": "stream",
          "name": "stdout",
          "text": [
            "Downloading data from https://storage.googleapis.com/tensorflow/tf-keras-datasets/mnist.npz\n",
            "11490434/11490434 [==============================] - 0s 0us/step\n"
          ]
        }
      ]
    },
    {
      "cell_type": "code",
      "source": [
        "y_train.shape"
      ],
      "metadata": {
        "id": "oZDA7Z_dDG8c",
        "outputId": "822c422d-69d5-4ef5-dabc-a69af20ca92e",
        "colab": {
          "base_uri": "https://localhost:8080/"
        }
      },
      "execution_count": 3,
      "outputs": [
        {
          "output_type": "execute_result",
          "data": {
            "text/plain": [
              "(60000, 10)"
            ]
          },
          "metadata": {},
          "execution_count": 3
        }
      ]
    },
    {
      "cell_type": "code",
      "source": [
        "# train the model\n",
        "model = train_model(model, x_train, y_train, batch_size=128, epochs=3)"
      ],
      "metadata": {
        "id": "4yR6bl7VBz0U",
        "outputId": "e30d43af-4a00-4966-9e57-96064c88f540",
        "colab": {
          "base_uri": "https://localhost:8080/"
        }
      },
      "execution_count": 6,
      "outputs": [
        {
          "output_type": "stream",
          "name": "stdout",
          "text": [
            "Epoch 1/3\n",
            "469/469 [==============================] - 37s 79ms/step - loss: 2.2433 - accuracy: 0.1900\n",
            "Epoch 2/3\n",
            "469/469 [==============================] - 35s 75ms/step - loss: 2.1917 - accuracy: 0.2722\n",
            "Epoch 3/3\n",
            "469/469 [==============================] - 37s 79ms/step - loss: 2.1351 - accuracy: 0.3519\n"
          ]
        }
      ]
    },
    {
      "cell_type": "code",
      "source": [
        "# evaluate the model\n",
        "evaluate_model(model, x_test, y_test)"
      ],
      "metadata": {
        "id": "gvt43g75DhFD",
        "outputId": "60ccf59f-fa55-40eb-d0e6-50e715591dc7",
        "colab": {
          "base_uri": "https://localhost:8080/"
        }
      },
      "execution_count": 7,
      "outputs": [
        {
          "output_type": "stream",
          "name": "stdout",
          "text": [
            "Test loss: 2.0752017498016357\n",
            "Test accuracy: 0.5940999984741211\n"
          ]
        }
      ]
    },
    {
      "cell_type": "code",
      "source": [
        "# feedforward the model on new data\n",
        "predictions = feedforward_model(model, x_test)"
      ],
      "metadata": {
        "id": "RTZU2WhdDvL3",
        "outputId": "d34a44df-d534-47f8-9b48-faf2780a196b",
        "colab": {
          "base_uri": "https://localhost:8080/"
        }
      },
      "execution_count": 11,
      "outputs": [
        {
          "output_type": "stream",
          "name": "stdout",
          "text": [
            "313/313 [==============================] - 2s 7ms/step\n"
          ]
        }
      ]
    },
    {
      "cell_type": "code",
      "source": [
        "predictions.shape"
      ],
      "metadata": {
        "id": "I0-feTqkD-EX",
        "outputId": "f30e4ec6-630a-484b-88c6-03e758435879",
        "colab": {
          "base_uri": "https://localhost:8080/"
        }
      },
      "execution_count": 9,
      "outputs": [
        {
          "output_type": "execute_result",
          "data": {
            "text/plain": [
              "(10000, 10)"
            ]
          },
          "metadata": {},
          "execution_count": 9
        }
      ]
    },
    {
      "cell_type": "code",
      "source": [
        "predictions"
      ],
      "metadata": {
        "id": "afNqJzAmAxEm",
        "outputId": "99532738-06e1-42d5-fd8e-59540917dfae",
        "colab": {
          "base_uri": "https://localhost:8080/"
        }
      },
      "execution_count": 12,
      "outputs": [
        {
          "output_type": "execute_result",
          "data": {
            "text/plain": [
              "array([[0.09890053, 0.10381483, 0.09910762, ..., 0.1360359 , 0.09814312,\n",
              "        0.09506709],\n",
              "       [0.10386365, 0.09098517, 0.12233417, ..., 0.07292018, 0.1149765 ,\n",
              "        0.06408203],\n",
              "       [0.09567235, 0.13039461, 0.09292411, ..., 0.09476468, 0.11571499,\n",
              "        0.08551434],\n",
              "       ...,\n",
              "       [0.090189  , 0.09629925, 0.08983522, ..., 0.09739687, 0.12740186,\n",
              "        0.10394622],\n",
              "       [0.10195588, 0.10761501, 0.08975345, ..., 0.09137528, 0.1259155 ,\n",
              "        0.09370723],\n",
              "       [0.14444925, 0.06746139, 0.10733652, ..., 0.07142291, 0.11073928,\n",
              "        0.07072237]], dtype=float32)"
            ]
          },
          "metadata": {},
          "execution_count": 12
        }
      ]
    },
    {
      "cell_type": "code",
      "source": [
        "predictions = predictions.argmax(axis=1)\n",
        "predictions"
      ],
      "metadata": {
        "id": "qIBwYr_MEAiR",
        "outputId": "9252078b-27d1-488b-dcd5-09c1175aceb7",
        "colab": {
          "base_uri": "https://localhost:8080/"
        }
      },
      "execution_count": 13,
      "outputs": [
        {
          "output_type": "execute_result",
          "data": {
            "text/plain": [
              "array([7, 3, 1, ..., 8, 8, 6])"
            ]
          },
          "metadata": {},
          "execution_count": 13
        }
      ]
    },
    {
      "cell_type": "code",
      "source": [],
      "metadata": {
        "id": "6YxdwgeaEKcT"
      },
      "execution_count": null,
      "outputs": []
    },
    {
      "cell_type": "code",
      "source": [],
      "metadata": {
        "id": "thE4alHQEWQD"
      },
      "execution_count": null,
      "outputs": []
    }
  ]
}